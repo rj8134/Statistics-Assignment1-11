{
 "cells": [
  {
   "cell_type": "markdown",
   "id": "f42e8ff4-b442-4a93-a61d-fb9a68b98dd9",
   "metadata": {},
   "source": [
    "# Q1. What is Statistics?"
   ]
  },
  {
   "cell_type": "code",
   "execution_count": null,
   "id": "00eaa701-fbfe-4872-9f70-5223e71dba8d",
   "metadata": {},
   "outputs": [],
   "source": [
    "Statistics is the science of collecting,organizing and analyzing the data.\n",
    "\n",
    "Statistics is the study of how to collect, analyze, and draw conclusions from data. \n",
    "It’s a hugely valuable tool that you can use to bring the future into focus and infer the answer to tons of questions."
   ]
  },
  {
   "cell_type": "markdown",
   "id": "db83ffed-cb59-420d-a0bc-1f0418ae17d7",
   "metadata": {},
   "source": [
    "# Q2. Define the different types of statistics and give an example of when each type might be used."
   ]
  },
  {
   "cell_type": "code",
   "execution_count": null,
   "id": "f8a89649-2b41-490b-8a06-a3f7c800afe0",
   "metadata": {},
   "outputs": [],
   "source": [
    "Types of Statistics:\n",
    "Descriptive Statistics: organising and summarizing the data(Measure od central tendancy,dispersion and draw charts like pie,histogram bar etc.\n",
    "\n",
    "Given data on all 100,000 people who viewed an ad, what percent of people clicked on it?\n",
    "Given data on every customer service request made, what’s the average time it took to respond?\n",
    "                                                            \n",
    "                                                            \n",
    "                                                            \n",
    "Inferential Statistics: form conclusion based on the sample data.(Use z-test,t-test, hypothesis testing etc.)\n",
    "After interviewing 100 customers, what percent of all your customers are satisfied with your product?\n",
    "Given data on 20 fish caught in a lake, what’s the average weight of all fish in the lake?\n",
    "In Exitpoles of Elections we use Inferential statistics.                                                            \n",
    "                                                            "
   ]
  },
  {
   "cell_type": "code",
   "execution_count": null,
   "id": "390529c7-e458-431c-ab26-15db2c098c6a",
   "metadata": {},
   "outputs": [],
   "source": [
    "Descriptive and Inferential Statistics\n",
    "The two major areas of statistics are known as descriptive statistics, which describes the properties of sample and population data, and inferential statistics, which uses those properties to test hypotheses and draw conclusions. Descriptive statistics include mean (average), variance, skewness, and kurtosis. Inferential statistics include linear regression analysis, analysis of variance (ANOVA), logit/Probit models, and null hypothesis testing.\n",
    "\n",
    "Descriptive Statistics\n",
    "Descriptive statistics mostly focus on the central tendency, variability, and distribution of sample data. Central tendency means the estimate of the characteristics, a typical element of a sample or population. It includes descriptive statistics such as mean, median, and mode.\n",
    "\n",
    "Variability refers to a set of statistics that show how much difference there is among the elements of a sample or population along the characteristics measured. It includes metrics such as range, variance, and standard deviation.\n",
    "\n",
    "The distribution refers to the overall \"shape\" of the data, which can be depicted on a chart such as a histogram or a dot plot, and includes properties such as the probability distribution function, skewness, and kurtosis. Descriptive statistics can also describe differences between observed characteristics of the elements of a data set. They can help us understand the collective properties of the elements of a data sample and form the basis for testing hypotheses and making predictions using inferential statistics.\n",
    "\n",
    "Inferential Statistics\n",
    "Inferential statistics are tools that statisticians use to draw conclusions about the characteristics of a population, drawn from the characteristics of a sample, and to determine how certain they can be of the reliability of those conclusions. Based on the sample size and distribution, statisticians can calculate the probability that statistics, which measure the central tendency, variability, distribution, and relationships between characteristics within a data sample, provide an accurate picture of the corresponding parameters of the whole population from which the sample is drawn.\n",
    "\n",
    "Inferential statistics are used to make generalizations about large groups, such as estimating average demand for a product by surveying a sample of consumers' buying habits or attempting to predict future events. This might mean projecting the future return of a security or asset class based on returns in a sample period.\n",
    "\n",
    "Regression analysis is a widely used technique of statistical inference used to determine the strength and nature of the relationship (the correlation) between a dependent variable and one or more explanatory (independent) variables. The output of a regression model is often analyzed for statistical significance, which refers to the claim that a result from findings generated by testing or experimentation is not likely to have occurred randomly or by chance. It's likely to be attributable to a specific cause elucidated by the data.\n",
    "\n"
   ]
  },
  {
   "cell_type": "markdown",
   "id": "61a3c5c1-3f50-4e9a-a8cd-7fc4a62d6d90",
   "metadata": {},
   "source": [
    "# Q3. What are the different types of data and how do they differ from each other? Provide an example of each type of data."
   ]
  },
  {
   "cell_type": "code",
   "execution_count": null,
   "id": "ccb4461a-e909-43c1-ade7-1a7c99cb44b6",
   "metadata": {},
   "outputs": [],
   "source": [
    "Types of Data:\n",
    "1 Quantitative(numeric):can perform arithmetic operations like +,-,*,/ etc.\n",
    "    . Discrete :  it will be a whole number\n",
    "                ex: No of bank accounts,umber of items in stock,Number of clicks on an ad\n",
    "    . Continuous:based on rational number\n",
    "                ex: weight/height of students in a class,Movie duration,Air temperature,Kilowatts of electricity used\n",
    "2 Qualitative(Categorical):\n",
    "    . Nominal:fix set of categories in your data set. You can not assign Rank\n",
    "              \n",
    "                ex-Gender,Blood group,Marital status\n",
    "    . Ordinal:Based on Rank (We can assign Rank)\n",
    "            ex- Customer Review app(Good,bad,Satisfatory)\n",
    "        "
   ]
  },
  {
   "cell_type": "code",
   "execution_count": null,
   "id": "171a40c8-3fbb-4265-9bb1-06220c2a00db",
   "metadata": {},
   "outputs": [],
   "source": [
    "Quantitative Data Type:\n",
    "This data type tries to quantify things and it does by considering numerical values that make it countable in nature. The price of a smartphone, discount offered, number of ratings on a product, the frequency of processor of a smartphone, or ram of that particular phone, all these things fall under the category of Quantitative data types.\n",
    "The key thing is that there can be an infinite number of values a feature can take. For instance, the price of a smartphone can vary from x amount to any value and it can be further broken down based on fractional values. The two subcategories which describe them clearly are:\n",
    "\n",
    "Discrete:\n",
    "The numerical values which fall under are integers or whole numbers are placed under this category. The number of speakers in the phone, cameras, cores in the processor, the number of sims supported all these are some of the examples of the discrete data type.\n",
    "\n",
    "Discrete data types in statistics cannot be measured – it can only be counted as the objects included in discrete data have a fixed value. The value can be represented in decimal, but it has to be whole. Discrete data is often identified through charts, including bar charts, pie charts, and tally charts.\n",
    "\n",
    "Continuous:\n",
    "The fractional numbers are considered as continuous values. These can take the form of the operating frequency of the processors, the android version of the phone, wifi frequency, temperature of the cores, and so on. \n",
    "\n",
    "Unlike discrete data types of data in research, with a whole and fixed value, continuous data can break down into smaller pieces and can take any value. For example, volatile values such as temperature and the weight of a human can be included in the continuous value. Continuous types of statistical data are represented using a graph that easily reflects value fluctuation by the highs and lows of the line through a certain period of time. \n",
    "\n"
   ]
  },
  {
   "cell_type": "code",
   "execution_count": null,
   "id": "8f6981e6-9184-418d-aa84-c94b90ae4972",
   "metadata": {},
   "outputs": [],
   "source": [
    "Qualitative Data Type:\n",
    "Qualitative or Categorical Data describes the object under consideration using a finite set of discrete classes. It means that this type of data can’t be counted or measured easily using numbers and therefore divided into categories. The gender of a person (male, female, or others) is a good example of this data type.\n",
    "\n",
    "These are usually extracted from audio, images, or text medium. Another example can be of a smartphone brand that provides information about the current rating, the color of the phone, category of the phone, and so on. All this information can be categorized as Qualitative data. There are two subcategories under this:\n",
    "\n",
    "Nominal:\n",
    "These are the set of values that don’t possess a natural ordering. Let’s understand this with some examples. The color of a smartphone can be considered as a nominal data type as we can’t compare one color with others.\n",
    "\n",
    "It is not possible to state that ‘Red’ is greater than ‘Blue’. The gender of a person is another one where we can’t differentiate between male, female, or others. Mobile phone categories whether it is midrange, budget segment, or premium smartphone is also nominal data type.\n",
    "\n",
    "Nominal data types in statistics are not quantifiable and cannot be measured through numerical units. Nominal types of statistical data are valuable while conducting qualitative research as it extends freedom of opinion to subjects.\n",
    "\n",
    "Ordinal\n",
    "These types of values have a natural ordering while maintaining their class of values. If we consider the size of a clothing brand then we can easily sort them according to their name tag in the order of small < medium < large. The grading system while marking candidates in a test can also be considered as an ordinal data type where A+ is definitely better than B grade. \n",
    "\n",
    "These categories help us deciding which encoding strategy can be applied to which type of data. Data encoding for Qualitative data is important because machine learning models can’t handle these values directly and needed to be converted to numerical types as the models are mathematical in nature.\n",
    "\n",
    "For nominal data type where there is no comparison among the categories, one-hot encoding can be applied which is similar to binary coding considering there are in less number and for the ordinal data type, label encoding can be applied which is a form of integer encoding."
   ]
  },
  {
   "cell_type": "markdown",
   "id": "119d2088-08c6-4766-91c6-1413c539f1a6",
   "metadata": {},
   "source": [
    "# Q4. Categorise the following datasets with respect to quantitative and qualitative data types:\n",
    "# (i) Grading in exam: A+, A, B+, B, C+, C, D, E\n",
    "# (ii) Colour of mangoes: yellow, green, orange, red\n",
    "# (iii) Height data of a class: [178.9, 179, 179.5, 176, 177.2, 178.3, 175.8,...]\n",
    "# (iv) Number of mangoes exported by a farm: [500, 600, 478, 672, ...]"
   ]
  },
  {
   "cell_type": "code",
   "execution_count": null,
   "id": "10f53819-b1cb-42b2-89d1-956fe4db6562",
   "metadata": {},
   "outputs": [],
   "source": [
    "(i)-Nominal\n",
    "(ii)-Nominal\n",
    "(iii)-Continuous\n",
    "(iv)-Discrete"
   ]
  },
  {
   "cell_type": "markdown",
   "id": "455d6e34-bbab-4fc8-9511-659f267e0649",
   "metadata": {},
   "source": [
    "# Q5. Explain the concept of levels of measurement and give an example of a variable for each level."
   ]
  },
  {
   "cell_type": "markdown",
   "id": "a92b635b-931d-4b55-b6e4-69251387a248",
   "metadata": {},
   "source": [
    "Statistical Levels of Measurement:\n",
    "There are several resulting levels of measurement after analyzing variables and outcomes. Statistics can quantify outcomes in four ways.\n",
    "\n",
    "Nominal-level Measurement:\n",
    "There's no numerical or quantitative value, and qualities are not ranked. Nominal-level measurements are instead simply labels or categories assigned to other variables. It's easiest to think of nominal-level measurements as non-numerical facts about a variable.\n",
    "\n",
    "Example: The name of the President elected in 2020 was Joseph Robinette Biden, Jr.\n",
    "\n",
    "Ordinal-level Measurement:\n",
    "Outcomes can be arranged in an order, but all data values have the same value or weight. Although numerical, ordinal-level measurements can't be subtracted against each other in statistics because only the position of the data point matters. Ordinal levels are often incorporated into nonparametric statistics and compared against the total variable group.\n",
    "\n",
    "Example: American Fred Kerley was the 2nd fastest man at the 2020 Tokyo Olympics based on 100-meter sprint times.\n",
    "\n",
    "Interval-level Measurement:\n",
    "Outcomes can be arranged in order but differences between data values may now have meaning. Two data points are often used to compare the passing of time or changing conditions within a data set. There is often no \"starting point\" for the range of data values, and calendar dates or temperatures may not have a meaningful intrinsic zero value.\n",
    "\n",
    "Example: Inflation hit 8.6% in May 2022. The last time inflation was this high was in December 1981\n",
    "\n",
    "Ratio-level Measurement:\n",
    "Outcomes can be arranged in order and differences between data values now have meaning. But there's a starting point or \"zero value\" that can be used to further provide value to a statistical value. The ratio between data values has meaning, including its distance away from zero.\n",
    "\n",
    "Example: The lowest meteorological temperature recorded was -128.6 degrees Fahrenheit in Antarctica."
   ]
  },
  {
   "cell_type": "markdown",
   "id": "f5cda80b-6c61-4ab4-a9c5-347de9dd18c8",
   "metadata": {},
   "source": [
    "# Q6. Why is it important to understand the level of measurement when analyzing data? Provide an example to illustrate your answer."
   ]
  },
  {
   "cell_type": "code",
   "execution_count": null,
   "id": "820f6a38-5178-4527-863e-b1e8ff9f24ee",
   "metadata": {},
   "outputs": [],
   "source": [
    "In the data collection phase,we collect varieties of data so to measure that particular data through some scale it is super important.\n",
    "\n"
   ]
  },
  {
   "cell_type": "markdown",
   "id": "01e42076-87ef-4733-af2f-e898b115f9f7",
   "metadata": {},
   "source": [
    "The level of measurement refers to the relationship among the values that are assigned to the attributes for a variable. \n",
    "\n",
    "Begin with the idea of the variable, in this example “party affiliation.”\n",
    "\n",
    "That variable has a number of attributes. Let’s assume that in this particular election context the only relevant attributes are “republican”, “democrat”, and “independent”. For purposes of analyzing the results of this variable, we arbitrarily assign the values 1, 2 and 3 to the three attributes. The level of measurement describes the relationship among these three values. In this case, we simply are using the numbers as shorter placeholders for the lengthier text terms. We don’t assume that higher values mean “more” of something and lower numbers signify “less”. We don’t assume the value of 2 means that democrats are twice something that republicans are. We don’t assume that republicans are in first place or have the highest priority just because they have the value of 1. In this case, we only use the values as a shorter name for the attribute. Here, we would describe the level of measurement as “nominal”."
   ]
  },
  {
   "attachments": {
    "4e88b086-e82b-4894-a08f-81b9184e1c94.gif": {
     "image/gif": "[encoded data removed]"
    }
   },
   "cell_type": "markdown",
   "id": "0c0686fe-6b34-4d6e-812d-a46c71b0a8d0",
   "metadata": {},
   "source": [
    "![measlevl.gif](attachment:4e88b086-e82b-4894-a08f-81b9184e1c94.gif)"
   ]
  },
  {
   "cell_type": "markdown",
   "id": "6a71610f-e715-4532-8b64-ad5687e4b075",
   "metadata": {},
   "source": [
    "First, knowing the level of measurement helps you decide how to interpret the data from that variable. When you know that a measure is nominal (like the one just described), then you know that the numerical values are just short codes for the longer names. Second, knowing the level of measurement helps you decide what statistical analysis is appropriate on the values that were assigned. If a measure is nominal, then you know that you would never average the data values or do a t-test on the data."
   ]
  },
  {
   "cell_type": "markdown",
   "id": "3421df6f-c360-427b-b4ab-ef182ec0c123",
   "metadata": {},
   "source": [
    "# Q7. How nominal data type is different from ordinal data type."
   ]
  },
  {
   "cell_type": "markdown",
   "id": "ceb64d32-0851-485e-8ead-aa0d92e33e10",
   "metadata": {},
   "source": [
    "Nominal data includes names or characteristics that contain two or more categories, and the categories have no inherent ordering. In other words, these types of data don't have any natural ranking or order. An ordinal data type is similar to a nominal one, but the distinction between the two is an obvious ordering in the data. Overall, ordinal data have some order, but nominal data do not. All ranking data, such as the Likert scales, the Bristol stool scales, and any other scales rated between 0 and 10, can be expressed using ordinal data."
   ]
  },
  {
   "cell_type": "markdown",
   "id": "cf16a93c-0f6f-4c96-96f8-4719d68cb071",
   "metadata": {},
   "source": [
    "# Q8. Which type of plot can be used to display data in terms of range?"
   ]
  },
  {
   "cell_type": "code",
   "execution_count": null,
   "id": "cfa019ff-c258-4ca8-aba8-0b5b176218b2",
   "metadata": {},
   "outputs": [],
   "source": [
    "Histogram"
   ]
  },
  {
   "cell_type": "markdown",
   "id": "f763616f-8028-443c-9cb7-688ac6ac36f4",
   "metadata": {},
   "source": [
    "# Q9. Describe the difference between descriptive and inferential statistics. Give an example of each type of statistics and explain how they are used."
   ]
  },
  {
   "cell_type": "markdown",
   "id": "999b0db5-0556-420a-85e0-fdb391c2e936",
   "metadata": {},
   "source": [
    "Descriptive statistics are used to describe or summarize the characteristics of a sample or data set, such as a variable's mean, standard deviation, or frequency. Inferential statistics employs any number of techniques to relate variables in a data set to one another. An example would be using correlation or regression analysis. These can then be used to estimate forecasts or infer causality.\n"
   ]
  },
  {
   "cell_type": "markdown",
   "id": "fcf5d9e1-3acd-47cc-91a5-ca566c641956",
   "metadata": {},
   "source": [
    "The differences between descriptive statistics vs inferential statistics lie as much in the process as in the statistics reported. Given below are the key points of difference in descriptive vs inferential statistics.     \n",
    "\n",
    "Descriptive Statistics gives information about raw data regarding its description or features. Inferential statistics, on the other hand, draw inferences about the population by using data extracted from the population. \n",
    "\n",
    "We use descriptive statistics to describe a situation, while we use inferential statistics to explain the probability of occurrence of an event. \n",
    "\n",
    "As for descriptive statistics, it helps to organize, analyze and present data in a meaningful manner. Inferential statistics helps to compare data, make hypotheses and predictions. \n",
    "\n",
    "Descriptive statistics explains already known data related to a particular sample or population of a small size. Inferential statistics, however, aims to draw inferences or conclusions about a whole population. \n",
    "\n",
    "We use charts, graphs, and tables to represent descriptive statistics, while we use probability methods for inferential statistics.\n",
    "\n",
    "It is simpler to perform a study using descriptive statistics rather than inferential statistics, where you need to establish a relationship between variables in an entire population."
   ]
  },
  {
   "cell_type": "markdown",
   "id": "5baa831a-cb45-4c83-a840-53ab7b03de4d",
   "metadata": {},
   "source": [
    "Example of Descriptive Statistics\n",
    "Examples of descriptive statistics are used to enumerate and explain a dataset's key characteristics. Measures like mean, median, mode, range, variance, and standard deviation are some examples. For instance, you could use descriptive statistics to determine the average age, the age distribution, and the age standard deviation of a group of individuals if you wanted to summarize their ages.\n",
    "\n",
    "\n",
    "Example of Inferential Statistics \n",
    "Using a sample of data, inferential statistics is used to draw conclusions or generalizations about a broader population. Examples include regression analysis, confidence ranges, and hypothesis testing. For instance, you could use inferential statistics to assess whether there is a significant difference in the outcomes of patients who receive the drug compared to those who receive a placebo if you want to know if a new drug is effective."
   ]
  },
  {
   "cell_type": "markdown",
   "id": "d3b811f5-4b35-4d32-8fa6-bedf0b0dcd84",
   "metadata": {},
   "source": [
    "# Q10. What are some common measures of central tendency and variability used in statistics? Explain how each measure can be used to describe a dataset."
   ]
  },
  {
   "cell_type": "markdown",
   "id": "280c4973-b17f-44e1-ad8b-f97492147abc",
   "metadata": {},
   "source": [
    "Central Tendency  \n",
    "Central tendency includes the descriptive summary of a dataset using a single value that reflects the center of the data distribution. It locates the distribution by various points and is used to show average or most commonly indicated responses in a data set. Measures of central tendency or measures of central location include the mean, median, and mode. Mean refers to the average or most common value in a data set, while the median is the middle score for the data set in increasing order, and mode is the most frequent value. \n",
    "\n",
    "\n"
   ]
  },
  {
   "cell_type": "markdown",
   "id": "c3130f0c-42ef-42dc-8c74-d84c53dc5b72",
   "metadata": {},
   "source": [
    "Variability or Dispersion\n",
    "A measure of variability identifies the range, variance, and standard deviation of scores in a sample. This measure denotes the range and width of distribution values in a data set and determines how to spread apart the data points are from the center. \n",
    "\n",
    "The range shows the degree of dispersion or the difference between the highest and lowest values within the data set. The variance refers to the degree of the spread and is measured as an average of the squared deviations. The standard deviation determines the difference between the observed score in the data set and the mean value. This descriptive statistic is useful when you want to show how to spread out your data is and how it affects the mean. \n",
    "\n"
   ]
  }
 ],
 "metadata": {
  "kernelspec": {
   "display_name": "Python 3 (ipykernel)",
   "language": "python",
   "name": "python3"
  },
  "language_info": {
   "codemirror_mode": {
    "name": "ipython",
    "version": 3
   },
   "file_extension": ".py",
   "mimetype": "text/x-python",
   "name": "python",
   "nbconvert_exporter": "python",
   "pygments_lexer": "ipython3",
   "version": "3.10.8"
  }
 },
 "nbformat": 4,
 "nbformat_minor": 5
}
